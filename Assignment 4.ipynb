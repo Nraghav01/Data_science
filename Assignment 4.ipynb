{
 "cells": [
  {
   "cell_type": "markdown",
   "metadata": {},
   "source": [
    "# Python Assignment 4 (OOPS)"
   ]
  },
  {
   "cell_type": "markdown",
   "metadata": {},
   "source": [
    "Q1 Write a Python Program(with class concepts) to find the area of the triangle using the below\n",
    "formula.\n",
    "area = (s*(s-a)*(s-b)*(s-c)) ** 0.5\n",
    "Function to take the length of the sides of triangle from user should be defined in the parent\n",
    "class and function to calculate the area should be defined in subclass."
   ]
  },
  {
   "cell_type": "code",
   "execution_count": 53,
   "metadata": {},
   "outputs": [],
   "source": [
    "class triangle():\n",
    "    def __init__(nand,a,b,c):\n",
    "        nand.a = a\n",
    "        nand.b = b\n",
    "        nand.c = c\n",
    "class area(triangle):\n",
    "    def __init__(nand,*args):\n",
    "        super(area,nand).__init__(*args)\n",
    "        nand.s=(nand.a+nand.b+nand.c)/2\n",
    "    def ar(nand):\n",
    "        nand.ar=(nand.s*(nand.s-nand.a)*(nand.s-nand.b)*(nand.s-nand.c)) ** 0.5\n",
    "        return nand.ar"
   ]
  },
  {
   "cell_type": "code",
   "execution_count": 55,
   "metadata": {},
   "outputs": [
    {
     "data": {
      "text/plain": [
       "88.99438184514796"
      ]
     },
     "execution_count": 55,
     "metadata": {},
     "output_type": "execute_result"
    }
   ],
   "source": [
    "d=area(13,21,14)\n",
    "d.ar()"
   ]
  },
  {
   "cell_type": "markdown",
   "metadata": {},
   "source": [
    "Q2 Write a function filter_long_words() that takes a list of words and an integer n and returns\n",
    "the list of words that are longer than n."
   ]
  },
  {
   "cell_type": "code",
   "execution_count": 79,
   "metadata": {},
   "outputs": [],
   "source": [
    "class words():\n",
    "    def __init__(self,l):\n",
    "        self.l=l\n",
    "    def filter_long_words(self,n):\n",
    "        self.n=n\n",
    "        self.r=[]\n",
    "        for i in range(len(self.l)):\n",
    "            if(len(self.l[i])>=self.n):\n",
    "                self.r.append(self.l[i])\n",
    "        return self.r            "
   ]
  },
  {
   "cell_type": "code",
   "execution_count": 81,
   "metadata": {},
   "outputs": [
    {
     "data": {
      "text/plain": [
       "['sadafadf', 'sad', 'sdjhUHABZHAB', 'qwwewewwww']"
      ]
     },
     "execution_count": 81,
     "metadata": {},
     "output_type": "execute_result"
    }
   ],
   "source": [
    "d=words(['sadafadf','sad','sdjhUHABZHAB','d','qwwewewwww'])\n",
    "d.filter_long_words(3)"
   ]
  },
  {
   "cell_type": "markdown",
   "metadata": {},
   "source": [
    "Q3 Write a Python program using function concept that maps list of words into a list of integers\n",
    "representing the lengths of the corresponding words.\n",
    "Hint: If a list [ ab,cde,erty] is passed on to the python function output should come as [2,3,4]\n",
    "Here 2,3 and 4 are the lengths of the words in the list."
   ]
  },
  {
   "cell_type": "code",
   "execution_count": 64,
   "metadata": {},
   "outputs": [],
   "source": [
    "def length(a):\n",
    "    l=[]\n",
    "    for i in range(len(a)):\n",
    "        b=len(a[i])\n",
    "        l.append(b)\n",
    "    return l\n"
   ]
  },
  {
   "cell_type": "code",
   "execution_count": 66,
   "metadata": {},
   "outputs": [
    {
     "data": {
      "text/plain": [
       "[5, 6, 3]"
      ]
     },
     "execution_count": 66,
     "metadata": {},
     "output_type": "execute_result"
    }
   ],
   "source": [
    "s=['asasd','asdasd','sad']\n",
    "f=length(s)\n",
    "f"
   ]
  },
  {
   "cell_type": "code",
   "execution_count": null,
   "metadata": {},
   "outputs": [],
   "source": [
    "Q4 Write a Python function which takes a character (i.e. a string of length 1) and returns True if\n",
    "it is a vowel, False otherwise."
   ]
  },
  {
   "cell_type": "code",
   "execution_count": 89,
   "metadata": {},
   "outputs": [],
   "source": [
    "class vowel():\n",
    "    def __init__(self,s):\n",
    "        self.s=s\n",
    "    def isvowel(self):\n",
    "        self.a=['a','e','i','o','u']\n",
    "        for i in range(len(self.a)):\n",
    "            if(self.a[i]==self.s):\n",
    "                return True \n",
    "            else:\n",
    "                return False"
   ]
  },
  {
   "cell_type": "code",
   "execution_count": 91,
   "metadata": {},
   "outputs": [
    {
     "data": {
      "text/plain": [
       "False"
      ]
     },
     "execution_count": 91,
     "metadata": {},
     "output_type": "execute_result"
    }
   ],
   "source": [
    "d=vowel('e')\n",
    "d.isvowel()"
   ]
  },
  {
   "cell_type": "code",
   "execution_count": null,
   "metadata": {},
   "outputs": [],
   "source": []
  }
 ],
 "metadata": {
  "kernelspec": {
   "display_name": "Python 3",
   "language": "python",
   "name": "python3"
  },
  "language_info": {
   "codemirror_mode": {
    "name": "ipython",
    "version": 3
   },
   "file_extension": ".py",
   "mimetype": "text/x-python",
   "name": "python",
   "nbconvert_exporter": "python",
   "pygments_lexer": "ipython3",
   "version": "3.7.4"
  }
 },
 "nbformat": 4,
 "nbformat_minor": 2
}
